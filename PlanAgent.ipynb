{
 "cells": [
  {
   "cell_type": "code",
   "execution_count": 2,
   "id": "3b7ca206-98f5-4f18-98e1-8344def5c1e6",
   "metadata": {
    "collapsed": true,
    "jupyter": {
     "outputs_hidden": true
    },
    "scrolled": true
   },
   "outputs": [
    {
     "name": "stdout",
     "output_type": "stream",
     "text": [
      "Defaulting to user installation because normal site-packages is not writeable\n",
      "Looking in indexes: https://pypi.org/simple, https://pypi.ngc.nvidia.com\n",
      "Collecting langchain-huggingface\n",
      "  Downloading langchain_huggingface-0.1.0-py3-none-any.whl (20 kB)\n",
      "Collecting text-generation\n",
      "  Downloading text_generation-0.7.0-py3-none-any.whl (12 kB)\n",
      "Collecting transformers\n",
      "  Downloading transformers-4.45.1-py3-none-any.whl (9.9 MB)\n",
      "\u001b[2K     \u001b[90m━━━━━━━━━━━━━━━━━━━━━━━━━━━━━━━━━━━━━━━━\u001b[0m \u001b[32m9.9/9.9 MB\u001b[0m \u001b[31m924.6 kB/s\u001b[0m eta \u001b[36m0:00:00\u001b[0m00:01\u001b[0m00:01\u001b[0m\n",
      "\u001b[?25hCollecting google-search-results\n",
      "  Downloading google_search_results-2.4.2.tar.gz (18 kB)\n",
      "  Preparing metadata (setup.py) ... \u001b[?25ldone\n",
      "\u001b[?25hCollecting numexpr\n",
      "  Downloading numexpr-2.10.1-cp310-cp310-manylinux_2_27_x86_64.manylinux_2_28_x86_64.whl (405 kB)\n",
      "\u001b[2K     \u001b[90m━━━━━━━━━━━━━━━━━━━━━━━━━━━━━━━━━━━━━\u001b[0m \u001b[32m405.0/405.0 KB\u001b[0m \u001b[31m649.7 kB/s\u001b[0m eta \u001b[36m0:00:00\u001b[0ma \u001b[36m0:00:01\u001b[0m\n",
      "\u001b[?25hCollecting langchainhub\n",
      "  Downloading langchainhub-0.1.21-py3-none-any.whl (5.2 kB)\n",
      "Collecting sentencepiece\n",
      "  Downloading sentencepiece-0.2.0-cp310-cp310-manylinux_2_17_x86_64.manylinux2014_x86_64.whl (1.3 MB)\n",
      "\u001b[2K     \u001b[90m━━━━━━━━━━━━━━━━━━━━━━━━━━━━━━━━━━━━━━━━\u001b[0m \u001b[32m1.3/1.3 MB\u001b[0m \u001b[31m641.0 kB/s\u001b[0m eta \u001b[36m0:00:00\u001b[0m00:01\u001b[0m00:01\u001b[0m\n",
      "\u001b[?25hRequirement already satisfied: jinja2 in /home/vishnusharma7/.local/lib/python3.10/site-packages (3.1.4)\n",
      "Collecting bitsandbytes\n",
      "  Downloading bitsandbytes-0.44.1-py3-none-manylinux_2_24_x86_64.whl (122.4 MB)\n",
      "\u001b[2K     \u001b[90m━━━━━━━━━━━━━━━━━━━━━━━━━━━━━━━━━━━━━━━\u001b[0m \u001b[32m122.4/122.4 MB\u001b[0m \u001b[31m1.5 MB/s\u001b[0m eta \u001b[36m0:00:00\u001b[0m00:01\u001b[0m00:04\u001b[0m\n",
      "\u001b[?25hCollecting accelerate\n",
      "  Downloading accelerate-0.34.2-py3-none-any.whl (324 kB)\n",
      "\u001b[2K     \u001b[90m━━━━━━━━━━━━━━━━━━━━━━━━━━━━━━━━━━━━━\u001b[0m \u001b[32m324.4/324.4 KB\u001b[0m \u001b[31m673.3 kB/s\u001b[0m eta \u001b[36m0:00:00\u001b[0ma \u001b[36m0:00:01\u001b[0m\n",
      "\u001b[?25hCollecting huggingface-hub>=0.23.0\n",
      "  Downloading huggingface_hub-0.25.1-py3-none-any.whl (436 kB)\n",
      "\u001b[2K     \u001b[90m━━━━━━━━━━━━━━━━━━━━━━━━━━━━━━━━━━━━━\u001b[0m \u001b[32m436.4/436.4 KB\u001b[0m \u001b[31m688.8 kB/s\u001b[0m eta \u001b[36m0:00:00\u001b[0ma \u001b[36m0:00:01\u001b[0m\n",
      "\u001b[?25hRequirement already satisfied: langchain-core<0.4,>=0.3.0 in /home/vishnusharma7/.local/lib/python3.10/site-packages (from langchain-huggingface) (0.3.6)\n",
      "Collecting tokenizers>=0.19.1\n",
      "  Downloading tokenizers-0.20.0-cp310-cp310-manylinux_2_17_x86_64.manylinux2014_x86_64.whl (2.9 MB)\n",
      "\u001b[2K     \u001b[90m━━━━━━━━━━━━━━━━━━━━━━━━━━━━━━━━━━━━━━━━\u001b[0m \u001b[32m2.9/2.9 MB\u001b[0m \u001b[31m648.5 kB/s\u001b[0m eta \u001b[36m0:00:00\u001b[0m00:01\u001b[0m00:01\u001b[0m\n",
      "\u001b[?25hCollecting sentence-transformers>=2.6.0\n",
      "  Downloading sentence_transformers-3.1.1-py3-none-any.whl (245 kB)\n",
      "\u001b[2K     \u001b[90m━━━━━━━━━━━━━━━━━━━━━━━━━━━━━━━━━━━━━\u001b[0m \u001b[32m245.3/245.3 KB\u001b[0m \u001b[31m836.4 kB/s\u001b[0m eta \u001b[36m0:00:00\u001b[0ma \u001b[36m0:00:01\u001b[0m\n",
      "\u001b[?25hRequirement already satisfied: pydantic<3,>2 in /home/vishnusharma7/.local/lib/python3.10/site-packages (from text-generation) (2.9.2)\n",
      "Requirement already satisfied: aiohttp<4.0,>=3.8 in /home/vishnusharma7/.local/lib/python3.10/site-packages (from text-generation) (3.10.8)\n",
      "Collecting safetensors>=0.4.1\n",
      "  Downloading safetensors-0.4.5-cp310-cp310-manylinux_2_17_x86_64.manylinux2014_x86_64.whl (435 kB)\n",
      "\u001b[2K     \u001b[90m━━━━━━━━━━━━━━━━━━━━━━━━━━━━━━━━━━━━━\u001b[0m \u001b[32m435.0/435.0 KB\u001b[0m \u001b[31m756.8 kB/s\u001b[0m eta \u001b[36m0:00:00\u001b[0ma \u001b[36m0:00:01\u001b[0m\n",
      "\u001b[?25hRequirement already satisfied: packaging>=20.0 in /home/vishnusharma7/.local/lib/python3.10/site-packages (from transformers) (24.1)\n",
      "Requirement already satisfied: pyyaml>=5.1 in /home/vishnusharma7/.local/lib/python3.10/site-packages (from transformers) (6.0.2)\n",
      "Requirement already satisfied: regex!=2019.12.17 in /home/vishnusharma7/.local/lib/python3.10/site-packages (from transformers) (2024.9.11)\n",
      "Requirement already satisfied: requests in /home/vishnusharma7/.local/lib/python3.10/site-packages (from transformers) (2.32.3)\n",
      "Requirement already satisfied: numpy>=1.17 in /home/vishnusharma7/.local/lib/python3.10/site-packages (from transformers) (1.26.4)\n",
      "Collecting filelock\n",
      "  Downloading filelock-3.16.1-py3-none-any.whl (16 kB)\n",
      "Requirement already satisfied: tqdm>=4.27 in /home/vishnusharma7/.local/lib/python3.10/site-packages (from transformers) (4.66.5)\n",
      "Collecting types-requests<3.0.0.0,>=2.31.0.2\n",
      "  Downloading types_requests-2.32.0.20240914-py3-none-any.whl (15 kB)\n",
      "Requirement already satisfied: MarkupSafe>=2.0 in /home/vishnusharma7/.local/lib/python3.10/site-packages (from jinja2) (2.1.5)\n",
      "Collecting torch\n",
      "  Downloading torch-2.4.1-cp310-cp310-manylinux1_x86_64.whl (797.1 MB)\n",
      "\u001b[2K     \u001b[90m━━━━━━━━━━━━━━━━━━━━━━━━━━━━━━━━━━━━━━━\u001b[0m \u001b[32m797.1/797.1 MB\u001b[0m \u001b[31m1.5 MB/s\u001b[0m eta \u001b[36m0:00:00\u001b[0m00:01\u001b[0m00:20\u001b[0m\n",
      "\u001b[?25hRequirement already satisfied: psutil in /home/vishnusharma7/.local/lib/python3.10/site-packages (from accelerate) (6.0.0)\n",
      "Requirement already satisfied: attrs>=17.3.0 in /home/vishnusharma7/.local/lib/python3.10/site-packages (from aiohttp<4.0,>=3.8->text-generation) (24.2.0)\n",
      "Requirement already satisfied: frozenlist>=1.1.1 in /home/vishnusharma7/.local/lib/python3.10/site-packages (from aiohttp<4.0,>=3.8->text-generation) (1.4.1)\n",
      "Requirement already satisfied: aiohappyeyeballs>=2.3.0 in /home/vishnusharma7/.local/lib/python3.10/site-packages (from aiohttp<4.0,>=3.8->text-generation) (2.4.2)\n",
      "Requirement already satisfied: yarl<2.0,>=1.12.0 in /home/vishnusharma7/.local/lib/python3.10/site-packages (from aiohttp<4.0,>=3.8->text-generation) (1.13.1)\n",
      "Requirement already satisfied: async-timeout<5.0,>=4.0 in /home/vishnusharma7/.local/lib/python3.10/site-packages (from aiohttp<4.0,>=3.8->text-generation) (4.0.3)\n",
      "Requirement already satisfied: multidict<7.0,>=4.5 in /home/vishnusharma7/.local/lib/python3.10/site-packages (from aiohttp<4.0,>=3.8->text-generation) (6.1.0)\n",
      "Requirement already satisfied: aiosignal>=1.1.2 in /home/vishnusharma7/.local/lib/python3.10/site-packages (from aiohttp<4.0,>=3.8->text-generation) (1.3.1)\n",
      "Collecting fsspec>=2023.5.0\n",
      "  Downloading fsspec-2024.9.0-py3-none-any.whl (179 kB)\n",
      "\u001b[2K     \u001b[90m━━━━━━━━━━━━━━━━━━━━━━━━━━━━━━━━━━━━━\u001b[0m \u001b[32m179.3/179.3 KB\u001b[0m \u001b[31m863.9 kB/s\u001b[0m eta \u001b[36m0:00:00\u001b[0ma \u001b[36m0:00:01\u001b[0m\n",
      "\u001b[?25hRequirement already satisfied: typing-extensions>=3.7.4.3 in /home/vishnusharma7/.local/lib/python3.10/site-packages (from huggingface-hub>=0.23.0->langchain-huggingface) (4.12.2)\n",
      "Requirement already satisfied: langsmith<0.2.0,>=0.1.125 in /home/vishnusharma7/.local/lib/python3.10/site-packages (from langchain-core<0.4,>=0.3.0->langchain-huggingface) (0.1.129)\n",
      "Requirement already satisfied: jsonpatch<2.0,>=1.33 in /home/vishnusharma7/.local/lib/python3.10/site-packages (from langchain-core<0.4,>=0.3.0->langchain-huggingface) (1.33)\n",
      "Requirement already satisfied: tenacity!=8.4.0,<9.0.0,>=8.1.0 in /home/vishnusharma7/.local/lib/python3.10/site-packages (from langchain-core<0.4,>=0.3.0->langchain-huggingface) (8.5.0)\n",
      "Requirement already satisfied: pydantic-core==2.23.4 in /home/vishnusharma7/.local/lib/python3.10/site-packages (from pydantic<3,>2->text-generation) (2.23.4)\n",
      "Requirement already satisfied: annotated-types>=0.6.0 in /home/vishnusharma7/.local/lib/python3.10/site-packages (from pydantic<3,>2->text-generation) (0.7.0)\n",
      "Requirement already satisfied: certifi>=2017.4.17 in /home/vishnusharma7/.local/lib/python3.10/site-packages (from requests->transformers) (2024.8.30)\n",
      "Requirement already satisfied: idna<4,>=2.5 in /home/vishnusharma7/.local/lib/python3.10/site-packages (from requests->transformers) (3.10)\n",
      "Requirement already satisfied: urllib3<3,>=1.21.1 in /home/vishnusharma7/.local/lib/python3.10/site-packages (from requests->transformers) (2.2.3)\n",
      "Requirement already satisfied: charset-normalizer<4,>=2 in /home/vishnusharma7/.local/lib/python3.10/site-packages (from requests->transformers) (3.3.2)\n",
      "Collecting Pillow\n",
      "  Downloading pillow-10.4.0-cp310-cp310-manylinux_2_28_x86_64.whl (4.5 MB)\n",
      "\u001b[2K     \u001b[90m━━━━━━━━━━━━━━━━━━━━━━━━━━━━━━━━━━━━━━━━\u001b[0m \u001b[32m4.5/4.5 MB\u001b[0m \u001b[31m873.0 kB/s\u001b[0m eta \u001b[36m0:00:00\u001b[0m00:01\u001b[0m00:01\u001b[0m\n",
      "\u001b[?25hCollecting scipy\n",
      "  Downloading scipy-1.14.1-cp310-cp310-manylinux_2_17_x86_64.manylinux2014_x86_64.whl (41.2 MB)\n",
      "\u001b[2K     \u001b[90m━━━━━━━━━━━━━━━━━━━━━━━━━━━━━━━━━━━━━━━━\u001b[0m \u001b[32m41.2/41.2 MB\u001b[0m \u001b[31m1.1 MB/s\u001b[0m eta \u001b[36m0:00:00\u001b[0m00:01\u001b[0m00:01\u001b[0mm\n",
      "\u001b[?25hCollecting scikit-learn\n",
      "  Downloading scikit_learn-1.5.2-cp310-cp310-manylinux_2_17_x86_64.manylinux2014_x86_64.whl (13.3 MB)\n",
      "\u001b[2K     \u001b[90m━━━━━━━━━━━━━━━━━━━━━━━━━━━━━━━━━━━━━━━\u001b[0m \u001b[32m13.3/13.3 MB\u001b[0m \u001b[31m717.6 kB/s\u001b[0m eta \u001b[36m0:00:00\u001b[0m00:01\u001b[0m00:01\u001b[0m\n",
      "\u001b[?25hCollecting nvidia-cuda-runtime-cu12==12.1.105\n",
      "  Downloading nvidia_cuda_runtime_cu12-12.1.105-py3-none-manylinux1_x86_64.whl (823 kB)\n",
      "\u001b[2K     \u001b[90m━━━━━━━━━━━━━━━━━━━━━━━━━━━━━━━━━━━━━\u001b[0m \u001b[32m823.6/823.6 KB\u001b[0m \u001b[31m374.3 kB/s\u001b[0m eta \u001b[36m0:00:00\u001b[0ma \u001b[36m0:00:01\u001b[0m\n",
      "\u001b[?25hCollecting nvidia-cufft-cu12==11.0.2.54\n",
      "  Downloading nvidia_cufft_cu12-11.0.2.54-py3-none-manylinux1_x86_64.whl (121.6 MB)\n",
      "\u001b[2K     \u001b[90m━━━━━━━━━━━━━━━━━━━━━━━━━━━━━━━━━━━━━━━\u001b[0m \u001b[32m121.6/121.6 MB\u001b[0m \u001b[31m1.0 MB/s\u001b[0m eta \u001b[36m0:00:00\u001b[0m00:01\u001b[0m00:03\u001b[0m\n",
      "\u001b[?25hCollecting networkx\n",
      "  Downloading networkx-3.3-py3-none-any.whl (1.7 MB)\n",
      "\u001b[2K     \u001b[90m━━━━━━━━━━━━━━━━━━━━━━━━━━━━━━━━━━━━━━━━\u001b[0m \u001b[32m1.7/1.7 MB\u001b[0m \u001b[31m580.7 kB/s\u001b[0m eta \u001b[36m0:00:00\u001b[0m00:01\u001b[0m00:01\u001b[0m\n",
      "\u001b[?25hCollecting nvidia-cuda-cupti-cu12==12.1.105\n",
      "  Downloading nvidia_cuda_cupti_cu12-12.1.105-py3-none-manylinux1_x86_64.whl (14.1 MB)\n",
      "\u001b[2K     \u001b[90m━━━━━━━━━━━━━━━━━━━━━━━━━━━━━━━━━━━━━━━━\u001b[0m \u001b[32m14.1/14.1 MB\u001b[0m \u001b[31m1.0 MB/s\u001b[0m eta \u001b[36m0:00:00\u001b[0m00:01\u001b[0m00:01\u001b[0mm\n",
      "\u001b[?25hCollecting sympy\n",
      "  Downloading sympy-1.13.3-py3-none-any.whl (6.2 MB)\n",
      "\u001b[2K     \u001b[90m━━━━━━━━━━━━━━━━━━━━━━━━━━━━━━━━━━━━━━━━\u001b[0m \u001b[32m6.2/6.2 MB\u001b[0m \u001b[31m1.3 MB/s\u001b[0m eta \u001b[36m0:00:00\u001b[0ma \u001b[36m0:00:01\u001b[0m0m\n",
      "\u001b[?25hCollecting nvidia-cudnn-cu12==9.1.0.70\n",
      "  Downloading nvidia_cudnn_cu12-9.1.0.70-py3-none-manylinux2014_x86_64.whl (664.8 MB)\n",
      "\u001b[2K     \u001b[90m━━━━━━━━━━━━━━━━━━━━━━━━━━━━━━━━━━━━━\u001b[0m \u001b[32m664.8/664.8 MB\u001b[0m \u001b[31m813.2 kB/s\u001b[0m eta \u001b[36m0:00:00\u001b[0m00:01\u001b[0m00:17\u001b[0m\n",
      "\u001b[?25hCollecting nvidia-cusparse-cu12==12.1.0.106\n",
      "  Downloading nvidia_cusparse_cu12-12.1.0.106-py3-none-manylinux1_x86_64.whl (196.0 MB)\n",
      "\u001b[2K     \u001b[90m━━━━━━━━━━━━━━━━━━━━━━━━━━━━━━━━━━━━━\u001b[0m \u001b[32m196.0/196.0 MB\u001b[0m \u001b[31m721.4 kB/s\u001b[0m eta \u001b[36m0:00:00\u001b[0m00:01\u001b[0m00:08\u001b[0m\n",
      "\u001b[?25hCollecting nvidia-cusolver-cu12==11.4.5.107\n",
      "  Downloading nvidia_cusolver_cu12-11.4.5.107-py3-none-manylinux1_x86_64.whl (124.2 MB)\n",
      "\u001b[2K     \u001b[90m━━━━━━━━━━━━━━━━━━━━━━━━━━━━━━━━━━━━━\u001b[0m \u001b[32m124.2/124.2 MB\u001b[0m \u001b[31m999.5 kB/s\u001b[0m eta \u001b[36m0:00:00\u001b[0m00:01\u001b[0m00:04\u001b[0m\n",
      "\u001b[?25hCollecting triton==3.0.0\n",
      "  Downloading triton-3.0.0-1-cp310-cp310-manylinux2014_x86_64.manylinux_2_17_x86_64.whl (209.4 MB)\n",
      "\u001b[2K     \u001b[90m━━━━━━━━━━━━━━━━━━━━━━━━━━━━━━━━━━━━━━━\u001b[0m \u001b[32m209.4/209.4 MB\u001b[0m \u001b[31m1.0 MB/s\u001b[0m eta \u001b[36m0:00:00\u001b[0m00:01\u001b[0m00:06\u001b[0m\n",
      "\u001b[?25hCollecting nvidia-cublas-cu12==12.1.3.1\n",
      "  Downloading nvidia_cublas_cu12-12.1.3.1-py3-none-manylinux1_x86_64.whl (410.6 MB)\n",
      "\u001b[2K     \u001b[91m━━━━━━━━━━━━━━━━━━━━━━━━━━━━\u001b[0m\u001b[91m╸\u001b[0m\u001b[90m━━━━━━━━━━\u001b[0m \u001b[32m301.4/410.6 MB\u001b[0m \u001b[31m1.2 MB/s\u001b[0m eta \u001b[36m0:01:30\u001b[0m^C\n",
      "\u001b[2K     \u001b[91m━━━━━━━━━━━━━━━━━━━━━━━━━━━━\u001b[0m\u001b[91m╸\u001b[0m\u001b[90m━━━━━━━━━━\u001b[0m \u001b[32m301.4/410.6 MB\u001b[0m \u001b[31m1.2 MB/s\u001b[0m eta \u001b[36m0:01:30\u001b[0m\n",
      "\u001b[?25h\u001b[31mERROR: Operation cancelled by user\u001b[0m\u001b[31m\n",
      "\u001b[0mNote: you may need to restart the kernel to use updated packages.\n"
     ]
    }
   ],
   "source": [
    "%pip install --upgrade langchain-groq sentencepiece langchain_huggingface langchain-huggingface text-generation transformers google-search-results numexpr langchainhub sentencepiece jinja2 bitsandbytes langchain-core langchain-anthropic accelerate"
   ]
  },
  {
   "cell_type": "code",
   "execution_count": 1,
   "id": "054dca97-1f67-422a-8015-040b6d05c688",
   "metadata": {},
   "outputs": [
    {
     "name": "stdout",
     "output_type": "stream",
     "text": [
      "API keys loaded successfully.\n"
     ]
    }
   ],
   "source": [
    "# get the code for loading API keys using .env file\n",
    "from dotenv import load_dotenv\n",
    "import os\n",
    "\n",
    "# Load the environment variables from the .env file\n",
    "load_dotenv()\n",
    "\n",
    "# Access environment variables\n",
    "HUGGINGFACE_API_KEY = os.getenv('LANGCHAIN_API_KEY')\n",
    "TAVILY_API_KEY = os.getenv('TAVILY_API_KEY')\n",
    "GROQ_API_KEY = os.getenv('GROQ_API_KEY')\n",
    "\n",
    "if not HUGGINGFACE_API_KEY:\n",
    "    print(\"Warning: HUGGINGFACE_API_KEY not found in .env file.\")\n",
    "if not TAVILY_API_KEY:\n",
    "    print(\"Warning: TAVILY_API_KEY not found in .env file.\")\n",
    "if not GROQ_API_KEY:\n",
    "    print(\"Warning: GROQ_API_KEY not found in .env file.\")\n",
    "\n",
    "# You can now use the API keys in your application\n",
    "print(\"API keys loaded successfully.\")"
   ]
  },
  {
   "cell_type": "code",
   "execution_count": 2,
   "id": "dfc2b0cf-599b-4605-a8d2-0aa2d0f68e68",
   "metadata": {},
   "outputs": [],
   "source": [
    "# _set_env(\"LANGCHAIN_API_KEY\")\n",
    "os.environ[\"LANGCHAIN_TRACING_V2\"] = \"true\"\n",
    "os.environ[\"LANGCHAIN_PROJECT\"] = \"banao2\""
   ]
  },
  {
   "cell_type": "code",
   "execution_count": 192,
   "id": "61ca9db8-d3b5-44ae-9b43-fe899a601ea5",
   "metadata": {},
   "outputs": [],
   "source": [
    "from langchain_groq import ChatGroq\n",
    "llm = ChatGroq(\n",
    "    model=\"llama-3.1-8b-instant\",\n",
    "    temperature=0,\n",
    "    max_tokens=1024,\n",
    "    timeout=None,\n",
    "    max_retries=2,\n",
    ")"
   ]
  },
  {
   "cell_type": "code",
   "execution_count": 208,
   "id": "e6dd4576-5e9f-4496-b97a-d1919cef8884",
   "metadata": {},
   "outputs": [],
   "source": [
    "# Imports\n",
    "import logging\n",
    "import operator\n",
    "from typing_extensions import TypedDict\n",
    "from typing import List, Optional, Annotated, Dict, Any\n",
    "from pydantic import BaseModel, Field\n",
    "from langgraph.constants import Send\n",
    "from langchain_core.tools import tool\n",
    "from langgraph.prebuilt import ToolNode\n",
    "from langchain_core.prompts import PromptTemplate\n",
    "from IPython.display import Image, display\n",
    "from langgraph.graph import START, END, StateGraph, MessagesState\n",
    "from langgraph.checkpoint.memory import MemorySaver\n",
    "from langchain_core.messages import AIMessage, HumanMessage, SystemMessage\n",
    "from langchain_core.utils.function_calling import convert_to_openai_tool"
   ]
  },
  {
   "cell_type": "code",
   "execution_count": 193,
   "id": "2505fac8-e02e-4170-83d3-858836dc18de",
   "metadata": {},
   "outputs": [],
   "source": [
    "\n",
    "# class AgentState(BaseModel):\n",
    "#     query: str\n",
    "#     tasks: List[str] = Field(default_factory=list)\n",
    "#     sub_query: Annotated[Dict[str, str], operator.add] = Field(default_factory=dict) \n",
    "#     # Dict[str, str] = Field(default_factory=dict) # you might want to add a reducer here\n",
    "#     answer: str = \"\"\n",
    "#     feedback: Optional[str] = None\n",
    "\n",
    "class AgentState(BaseModel):\n",
    "    query: Any  # This is required\n",
    "    tasks: Optional[List[str]] = Field(default_factory=list)  # Optional with default empty list\n",
    "    # sub_query: Optional[Annotated[Dict[str, str], operator.add]] = Field(default_factory=dict)  # Optional with default empty dict\n",
    "    # answer: Optional[str] = \"\"  # Optional with default empty string\n",
    "    feedback: Optional[str] = None  # Optional with None as the default\n",
    "\n",
    "class Perspective(BaseModel):\n",
    "    tasks: List[str] = Field(description=\"Comprehensive list of sub-queries that can be solved indepedently.\")\n"
   ]
  },
  {
   "cell_type": "code",
   "execution_count": null,
   "id": "39337010-1cd4-4787-8cd5-226456c8c39a",
   "metadata": {},
   "outputs": [],
   "source": []
  },
  {
   "cell_type": "code",
   "execution_count": 137,
   "id": "699ceae7-b482-44ed-bfb0-678f55a0c8c9",
   "metadata": {},
   "outputs": [],
   "source": [
    "splitter = \"\"\"\n",
    "You are an advanced AI assistant specialized in analyzing complex queries and breaking them down into smaller, independent sub-queries.\n",
    "Your task is to help users by dividing their main query into manageable parts that can be addressed separately.\n",
    "\n",
    "Input\n",
    "You will receive a main query.\n",
    "\n",
    "Process\n",
    "1. Carefully analyze and comprehend the main query in its entirety.\n",
    "2. Analyze any editorial that has been optinally provided to as {feedback}\n",
    "3. Identify the key components, topics, or steps within the query.\n",
    "4. Determine logical breaking points that allow for independent investigation or resolution.\n",
    "5. Create n sub-queries that collectively cover all aspects of the main query where n is an arbitary number that you need to decide logically.\n",
    "\n",
    "Output\n",
    "Provide a list of n sub-queries, ensuring that:\n",
    "\n",
    "- Each sub-query is clear, concise, and self-contained.\n",
    "- The sub-queries are mutually exclusive to avoid redundancy.\n",
    "- When combined, the sub-queries comprehensively address the main query.\n",
    "- Each sub-query is numbered for easy reference.\n",
    "\n",
    "Guidelines\n",
    "\n",
    "- Maintain the original intent and scope of the main query.\n",
    "- Use simple, straightforward language in the sub-queries.\n",
    "- Avoid making assumptions beyond the information provided in the main query.\n",
    "- If the query cannot be logically divided into the exact number of requested sub-queries, use the closest appropriate number and explain your reasoning.\n",
    "\n",
    "Example\n",
    "Main Query: \"Explain the process of photosynthesis in plants, including the required ingredients, the chemical reactions involved, and the end products.\"\n",
    "\n",
    "Sub-queries:\n",
    "\n",
    "1. What are the essential ingredients required for photosynthesis in plants?\n",
    "2. Describe the main chemical reactions that occur during the process of photosynthesis.\n",
    "3. What are the end products of photosynthesis, and how are they used by the plant?\n",
    "\n",
    "Remember, your goal is to create sub-queries that, when answered, will provide a comprehensive response to the original query.\n",
    "Return the sub_queries in a list format example: [sub_query_1, sub_query_2, sub_query_3] & specify in each sub_query to return the solution.\n",
    "eg. sub_query is \"add 2 and 3\" then the sub_query should be written like \"add 2 and 3 and return the result\"\n",
    "\"\"\""
   ]
  },
  {
   "cell_type": "code",
   "execution_count": 138,
   "id": "ec0b9d6c-fb8e-4cd6-b6b5-fb39c0d5b1e4",
   "metadata": {},
   "outputs": [],
   "source": [
    "from pprint import pprint\n",
    "\n",
    "def plan_agent(state: AgentState):\n",
    "    system_message = splitter.format(feedback=state.feedback)\n",
    "    # print(system_message) # check how update will be passed here\n",
    "    dict_schema = convert_to_openai_tool(Perspective)\n",
    "    structured_llm = llm.with_structured_output(dict_schema)\n",
    "    response = structured_llm.invoke([{\"role\": \"system\", \"content\": system_message},\n",
    "                              {\"role\": \"user\", \"content\": state.query}])\n",
    "    tasks: List[str] = response['tasks']\n",
    "    state.tasks = tasks\n",
    "    # print(state.tasks)\n",
    "    return {\"tasks\": tasks}\n",
    "    "
   ]
  },
  {
   "cell_type": "raw",
   "id": "604adef6-048e-4d55-a56e-9eca18dc51d6",
   "metadata": {
    "jupyter": {
     "source_hidden": true
    }
   },
   "source": [
    "def initialize_agent_state():\n",
    "    query = \"add 2 and 3, multiply 4 and 6, and divide 6 by 2 and return mean of all the answers\"\n",
    "\n",
    "    # List of tasks\n",
    "    tasks = [\n",
    "        \"add 2 and 3\",\n",
    "        \"multiply 4 and 6\",\n",
    "        \"divide 6 by 2\"\n",
    "    ]\n",
    "\n",
    "    # Sub-query breakdown (operation and operands)\n",
    "    sub_query = {\n",
    "        \"addition\": \"2 + 3\",\n",
    "        \"multiplication\": \"4 * 6\",\n",
    "        \"division\": \"6 / 2\"\n",
    "    }\n",
    "\n",
    "    # Perform calculations\n",
    "    add_result = 2 + 3\n",
    "    multiply_result = 4 * 6\n",
    "    divide_result = 6 / 2\n",
    "    mean_result = (add_result + multiply_result + divide_result) / 3\n",
    "\n",
    "    # Initialize the AgentState\n",
    "    agent_state = AgentState(\n",
    "        query=query,\n",
    "        tasks=tasks,\n",
    "        sub_query=sub_query,\n",
    "        answer=str(mean_result),  # Store the mean result as the answer\n",
    "        feedback=None  # No feedback for now\n",
    "    )\n",
    "\n",
    "    return agent_state\n",
    "\n",
    "# Initialize and print the contents of the AgentState\n",
    "state = initialize_agent_state()"
   ]
  },
  {
   "cell_type": "code",
   "execution_count": 139,
   "id": "12005ebe-bce3-4300-88aa-2fd1d767487c",
   "metadata": {},
   "outputs": [
    {
     "name": "stdout",
     "output_type": "stream",
     "text": [
      "add 2 and 3 and return the result\n",
      "multiply 4 and 6 and return the result\n",
      "divide 6 by 2 and return the result\n",
      "calculate the mean of the previous results and return the result\n"
     ]
    }
   ],
   "source": [
    "state = AgentState(query=\"add 2 and 3, multiply 4 and 6, and divide 6 by 2 and return mean of all the answers\")\n",
    "plan_agent(state)\n",
    "for task in state.tasks:\n",
    "    print(task)"
   ]
  },
  {
   "cell_type": "code",
   "execution_count": 243,
   "id": "2eb062a1-9e96-4bbf-8802-bc2d644f5d72",
   "metadata": {},
   "outputs": [],
   "source": [
    "# class for the Inner loop\n",
    "class Innerloop(MessagesState):\n",
    "    task : str\n",
    "    answer : Annotated[Optional[str], operator.add]\n",
    "    reflect : Optional[str] = None\n",
    "    # feedback : Optinal[str] = None"
   ]
  },
  {
   "cell_type": "code",
   "execution_count": 163,
   "id": "b8ed38f2-b093-428a-93da-18d8e1b0da0c",
   "metadata": {},
   "outputs": [],
   "source": [
    "\n",
    "\n",
    "# def parallelize(state):\n",
    "#     return [Send(\"assistant\", {\n",
    "#         \"innerloop\": Innerloop(\n",
    "#             task=task, \n",
    "#             messages=[HumanMessage(content=f\"solve the task {task}\")]\n",
    "#         )\n",
    "#     }) for task in state.tasks]"
   ]
  },
  {
   "cell_type": "code",
   "execution_count": 216,
   "id": "6502c632-d858-4c1c-8b8c-3f2b43757ad6",
   "metadata": {},
   "outputs": [],
   "source": [
    "# Define tools\n",
    "logging.basicConfig(level=logging.INFO)\n",
    "\n",
    "@tool\n",
    "def add(a: int, b: int):\n",
    "    \"\"\"Adds two integers.\"\"\"\n",
    "    logging.info(f\"Calling add function with {a} and {b}\")\n",
    "    try:\n",
    "        result = a + b\n",
    "        logging.info(f\"Tool returned {result}\")\n",
    "    except Exception as e:\n",
    "        logging.error(f\"Error encountered on add function {e}\")\n",
    "    return result\n",
    "\n",
    "@tool\n",
    "def multiply(a: int, b: int) -> int:\n",
    "    \"\"\"Multiply a and b.\n",
    "\n",
    "    Args:\n",
    "        a: first int\n",
    "        b: second int\n",
    "    \"\"\"\n",
    "    return a * b\n",
    "\n",
    "@tool\n",
    "def divide(a: int, b: int) -> float:\n",
    "    \"\"\"Divide a and b.\n",
    "\n",
    "    Args:\n",
    "        a: first int\n",
    "        b: second int\n",
    "    \"\"\"\n",
    "    return a / b\n",
    "\n",
    "tools = [add, divide, multiply]\n",
    "llm_with_tools = llm.bind_tools(tools)\n",
    "tool_node = ToolNode(tools)"
   ]
  },
  {
   "cell_type": "raw",
   "id": "1fdf6b18-027d-4688-9dea-8d5e02e3611d",
   "metadata": {
    "scrolled": true
   },
   "source": [
    "# This is how a tool is invoked, merely calling llm_with_tools does not work!\n",
    "tool_node.invoke({\"messages\": [llm_with_tools.invoke(\"Add 2 and 3\")]})"
   ]
  },
  {
   "cell_type": "code",
   "execution_count": 232,
   "id": "e8fada48-95a4-4b2a-af8c-39d904210c09",
   "metadata": {},
   "outputs": [],
   "source": [
    "sys_msg = SystemMessage(content=\"You a expert at performing mathematical operations. you will solve the given question & return its answer\")\n",
    "\n",
    "def assistant(state: Innerloop):\n",
    "    # innerloop = Innerloop(task=input_dict['task'])\n",
    "    # pprint(state)\n",
    "    args = llm_with_tools.invoke([sys_msg] + [state['task']])\n",
    "    # state.sub_query[innerloop.task] = answer\n",
    "    response = tool_node.invoke({\"messages\": [args]})\n",
    "    state['answer'] = response['messages'][0].content\n",
    "    print(state['answer'])\n",
    "    return {\"answer\": response['messages'][0].content}"
   ]
  },
  {
   "cell_type": "code",
   "execution_count": 233,
   "id": "7e8ad10b-ecd8-4460-ac05-0942ad623d3f",
   "metadata": {},
   "outputs": [],
   "source": [
    "# Reflection \n",
    "def reflect_agent(state: Innerloop):\n",
    "    \"\"\"\n",
    "    Enhanced agent responsible for reflecting on the current state,\n",
    "    refining tasks, and self-reflecting on its own output.\n",
    "    \"\"\"\n",
    "    \n",
    "    # Self-reflection\n",
    "    self_reflection = llm.invoke([\n",
    "        HumanMessage(content=f\"\"\"You are an AI tasked with self-reflection. \n",
    "        Given the state:\n",
    "        query : {state['task']}\n",
    "        answer : {state['answer']}\n",
    "        iterations : 1\n",
    "\n",
    "        Critically analyze answer with the corresponding query. Consider the following:\n",
    "        1. Is the answer comprehensive? Does it address all aspects of the query?\n",
    "        2. Is the corresponding answer correct according to the query.\n",
    "        3. Is there any inconsistency or error in the answer?\n",
    "        4. Could the answer be improved in any way?\n",
    "\n",
    "        If you find any issues or potential improvements, provide a suggestion. \n",
    "        If you believe the answer is already optimal, respond with 'Original answer is optimal'.\"\"\")\n",
    "    ])\n",
    "    \n",
    "    # Step 2: Implement changes based on reflection\n",
    "    if self_reflection.content != \"Original answer is optimal\":\n",
    "        final_reflection = self_reflection.content\n",
    "    else:\n",
    "        final_reflection = \"Hit it!\"\n",
    "    \n",
    "    if final_reflection != \"Hit it!\":\n",
    "        input_message = f\"{sys_msg}\\n{state['task']}\\n{state['answer']}\\n{final_reflection}\"\n",
    "        response = llm_with_tools.invoke(input_message)\n",
    "    \n",
    "    return {\"answer\": response}\n"
   ]
  },
  {
   "cell_type": "raw",
   "id": "e916e276-effd-434a-a963-2d50a6ed126b",
   "metadata": {},
   "source": [
    "def combine_answers(state: AgentState) -> AgentState:\n",
    "    \"\"\" Combine all the answers in the Dictionary & Generate a final comprehensive answer. \"\"\"\n",
    "    context = \" \".join([v for v in state.sub_query.values() if v])\n",
    "    prompt_template = PromptTemplate(\n",
    "        input_variables=[\"query\", \"context\"],\n",
    "        template=\"\"\"\n",
    "        You are an AI assistant. Here is the main query: \"{query}\".\n",
    "        Below are some relevant sub-answers:\n",
    "        {context}\n",
    "        \n",
    "        Please provide a detailed, natural language answer to the main query based on the sub-answers.\n",
    "        \"\"\"\n",
    "    )\n",
    "\n",
    "    # Generate the prompt by filling in the main query and context\n",
    "    prompt = prompt_template.format(query=state.query, context=context)\n",
    "\n",
    "    # Get the LLM's response\n",
    "    llm_response = llm(prompt)\n",
    "\n",
    "    # Store the final answer in the state\n",
    "    state.answer = llm_response\n",
    "    return llm_response"
   ]
  },
  {
   "cell_type": "code",
   "execution_count": 234,
   "id": "3980c182-149d-4f2b-bd1f-e43c479960c3",
   "metadata": {},
   "outputs": [
    {
     "data": {
      "image/jpeg": "[encoded data removed]",
      "text/plain": [
       "<IPython.core.display.Image object>"
      ]
     },
     "metadata": {},
     "output_type": "display_data"
    }
   ],
   "source": [
    "# Inner loop workflow\n",
    "builder = StateGraph(Innerloop)\n",
    "builder.add_node(\"assistant\", assistant)\n",
    "builder.add_node(\"Reflect\", reflect_agent)\n",
    "\n",
    "builder.add_edge(START, \"assistant\")\n",
    "builder.add_edge(\"assistant\", \"Reflect\")\n",
    "builder.add_edge(\"Reflect\", END)\n",
    "\n",
    "memory = MemorySaver()\n",
    "sub_graph = builder.compile(checkpointer=memory) # This compilation is for testing purposes only\n",
    "display(Image(sub_graph.get_graph(xray=1).draw_mermaid_png()))"
   ]
  },
  {
   "cell_type": "code",
   "execution_count": 244,
   "id": "902d5505-c4a5-4429-be9c-d20f276f0497",
   "metadata": {},
   "outputs": [
    {
     "name": "stdout",
     "output_type": "stream",
     "text": [
      "Full Event: {'messages': [], 'task': 'Add 2 and 3', 'answer': AIMessage(content='', additional_kwargs={'tool_calls': [{'id': 'call_1s7c', 'function': {'arguments': '{\"a\": 2, \"b\": 3}', 'name': 'add'}, 'type': 'function'}]}, response_metadata={'token_usage': {'completion_tokens': 18, 'prompt_tokens': 673, 'total_tokens': 691, 'completion_time': 0.024, 'prompt_time': 0.175180069, 'queue_time': 0.002021569000000001, 'total_time': 0.199180069}, 'model_name': 'llama-3.1-8b-instant', 'system_fingerprint': 'fp_9cb648b966', 'finish_reason': 'tool_calls', 'logprobs': None}, id='run-c6f2ffa4-c312-46cf-a4e3-5e06afc42139-0', tool_calls=[{'name': 'add', 'args': {'a': 2, 'b': 3}, 'id': 'call_1s7c', 'type': 'tool_call'}], usage_metadata={'input_tokens': 673, 'output_tokens': 18, 'total_tokens': 691})}\n",
      "Event Keys: dict_keys(['messages', 'task', 'answer'])\n",
      "messages: []\n",
      "task: Add 2 and 3\n",
      "answer: content='' additional_kwargs={'tool_calls': [{'id': 'call_1s7c', 'function': {'arguments': '{\"a\": 2, \"b\": 3}', 'name': 'add'}, 'type': 'function'}]} response_metadata={'token_usage': {'completion_tokens': 18, 'prompt_tokens': 673, 'total_tokens': 691, 'completion_time': 0.024, 'prompt_time': 0.175180069, 'queue_time': 0.002021569000000001, 'total_time': 0.199180069}, 'model_name': 'llama-3.1-8b-instant', 'system_fingerprint': 'fp_9cb648b966', 'finish_reason': 'tool_calls', 'logprobs': None} id='run-c6f2ffa4-c312-46cf-a4e3-5e06afc42139-0' tool_calls=[{'name': 'add', 'args': {'a': 2, 'b': 3}, 'id': 'call_1s7c', 'type': 'tool_call'}] usage_metadata={'input_tokens': 673, 'output_tokens': 18, 'total_tokens': 691}\n"
     ]
    },
    {
     "name": "stderr",
     "output_type": "stream",
     "text": [
      "INFO:httpx:HTTP Request: POST https://api.groq.com/openai/v1/chat/completions \"HTTP/1.1 200 OK\"\n",
      "INFO:root:Calling add function with 2 and 3\n",
      "INFO:root:Tool returned 5\n"
     ]
    },
    {
     "name": "stdout",
     "output_type": "stream",
     "text": [
      "5\n",
      "Full Event: {'messages': [], 'task': 'Add 2 and 3', 'answer': '5'}\n",
      "Event Keys: dict_keys(['messages', 'task', 'answer'])\n",
      "messages: []\n",
      "task: Add 2 and 3\n",
      "answer: 5\n"
     ]
    },
    {
     "name": "stderr",
     "output_type": "stream",
     "text": [
      "INFO:httpx:HTTP Request: POST https://api.groq.com/openai/v1/chat/completions \"HTTP/1.1 200 OK\"\n",
      "INFO:httpx:HTTP Request: POST https://api.groq.com/openai/v1/chat/completions \"HTTP/1.1 200 OK\"\n"
     ]
    },
    {
     "name": "stdout",
     "output_type": "stream",
     "text": [
      "Full Event: {'messages': [], 'task': 'Add 2 and 3', 'answer': AIMessage(content='', additional_kwargs={'tool_calls': [{'id': 'call_axay', 'function': {'arguments': '{\"a\": 2, \"b\": 3}', 'name': 'add'}, 'type': 'function'}]}, response_metadata={'token_usage': {'completion_tokens': 18, 'prompt_tokens': 673, 'total_tokens': 691, 'completion_time': 0.024, 'prompt_time': 0.137621705, 'queue_time': 0.002289041999999991, 'total_time': 0.161621705}, 'model_name': 'llama-3.1-8b-instant', 'system_fingerprint': 'fp_9cb648b966', 'finish_reason': 'tool_calls', 'logprobs': None}, id='run-76808f69-eae9-4c90-a847-9bd2f2b4cfc1-0', tool_calls=[{'name': 'add', 'args': {'a': 2, 'b': 3}, 'id': 'call_axay', 'type': 'tool_call'}], usage_metadata={'input_tokens': 673, 'output_tokens': 18, 'total_tokens': 691})}\n",
      "Event Keys: dict_keys(['messages', 'task', 'answer'])\n",
      "messages: []\n",
      "task: Add 2 and 3\n",
      "answer: content='' additional_kwargs={'tool_calls': [{'id': 'call_axay', 'function': {'arguments': '{\"a\": 2, \"b\": 3}', 'name': 'add'}, 'type': 'function'}]} response_metadata={'token_usage': {'completion_tokens': 18, 'prompt_tokens': 673, 'total_tokens': 691, 'completion_time': 0.024, 'prompt_time': 0.137621705, 'queue_time': 0.002289041999999991, 'total_time': 0.161621705}, 'model_name': 'llama-3.1-8b-instant', 'system_fingerprint': 'fp_9cb648b966', 'finish_reason': 'tool_calls', 'logprobs': None} id='run-76808f69-eae9-4c90-a847-9bd2f2b4cfc1-0' tool_calls=[{'name': 'add', 'args': {'a': 2, 'b': 3}, 'id': 'call_axay', 'type': 'tool_call'}] usage_metadata={'input_tokens': 673, 'output_tokens': 18, 'total_tokens': 691}\n"
     ]
    }
   ],
   "source": [
    "sub_state = Innerloop(task=\"Add 2 and 3\")\n",
    "thread = {\"configurable\": {\"thread_id\": \"1\"}}\n",
    "for event in sub_graph.stream(sub_state, thread, stream_mode=\"values\"):\n",
    "    print(\"Full Event:\", event)\n",
    "\n",
    "    # If event is a dictionary (which is common), you can print its keys and values\n",
    "    if isinstance(event, dict):\n",
    "        print(\"Event Keys:\", event.keys())\n",
    "        for key, value in event.items():\n",
    "            print(f\"{key}: {value}\")\n",
    "\n",
    "    # Optionally, if event has specific known attributes, you can print them like this:\n",
    "    if 'messages' in event:\n",
    "        for message in event['messages']:\n",
    "            print(\"Message Content:\", message['content'])\n",
    "\n",
    "    # Print the last message or specific components\n",
    "    # if 'messages' in event:\n",
    "    #     event['messages'][-1].pretty_print()"
   ]
  },
  {
   "cell_type": "code",
   "execution_count": null,
   "id": "744ee499-8c62-4efb-abf5-e00e9b3a2008",
   "metadata": {},
   "outputs": [],
   "source": []
  },
  {
   "cell_type": "code",
   "execution_count": 245,
   "id": "7d96bfcc-f763-4e1b-84d3-7b1cfe161182",
   "metadata": {},
   "outputs": [],
   "source": [
    "class OverallState(TypedDict):\n",
    "    query: str\n",
    "    tasks: List[str]\n",
    "    answers: Annotated[list, operator.add]\n",
    "    feedback: str\n",
    "    ans: str\n",
    "    "
   ]
  },
  {
   "cell_type": "code",
   "execution_count": null,
   "id": "f27429f1-505f-4a71-b5dc-1b137459a345",
   "metadata": {},
   "outputs": [],
   "source": []
  },
  {
   "cell_type": "code",
   "execution_count": 246,
   "id": "452b671f-cc9e-4e89-ac11-4b36698180f4",
   "metadata": {},
   "outputs": [],
   "source": [
    "# Human Feedback\n",
    "def human_feedback(state: OverallState):\n",
    "    \"\"\" No-op node that should be interrupted on \"\"\"\n",
    "    pass\n",
    "\n",
    "def should_continue(state: OverallState):\n",
    "    \"\"\" Return the next node to execute \"\"\"\n",
    "\n",
    "    user_feedback = input(\"Please provide feedback or 'Punch it!' Captain Pike! (I mean hit enter): \").strip()\n",
    "\n",
    "    # If no feedback is provided, use \"Punch It!\" as default\n",
    "    state.feedback = user_feedback if user_feedback else \"Punch It!\"\n",
    "\n",
    "    # Check if feedback is not \"Punch It!\" to proceed\n",
    "    if state.feedback != \"Punch It!\":\n",
    "        return \"plan_agent\"\n",
    "    \n",
    "    # Otherwise end\n",
    "    return \"combine_answers\""
   ]
  },
  {
   "cell_type": "code",
   "execution_count": null,
   "id": "a106e384-431a-497e-9e84-4bdb223fbbef",
   "metadata": {},
   "outputs": [],
   "source": []
  },
  {
   "cell_type": "code",
   "execution_count": 247,
   "id": "2a4d6a36-2915-4918-9b59-4cf371acdb85",
   "metadata": {},
   "outputs": [],
   "source": [
    "def combine_answers(state: OverallState) -> str:\n",
    "    \"\"\" Combine all the answers in the Dictionary & Generate a final comprehensive answer. \"\"\"\n",
    "    context = \" \".join([v for v in state.answers if v])\n",
    "    \n",
    "    messages: List[AIMessage | HumanMessage | SystemMessage] = [\n",
    "        SystemMessage(content=\"\"\"\n",
    "            You are an AI assistant. Your task is to provide a detailed, natural language answer \n",
    "            to the main query based on the given sub-answers.\n",
    "        \"\"\"),\n",
    "        HumanMessage(content=f\"\"\"\n",
    "            Here is the main query: \"{state.query}\".\n",
    "            Below are some relevant sub-answers:\n",
    "            {context}\n",
    "            \n",
    "            Please provide a detailed, natural language answer to the main query based on the sub-answers.\n",
    "        \"\"\")\n",
    "    ]\n",
    "    # Get the LLM's response\n",
    "    llm_response = llm.invoke(messages)\n",
    "    \n",
    "    # Assuming llm() returns a string. If it returns a message object, you might need to extract the content.\n",
    "    if isinstance(llm_response, AIMessage):\n",
    "        final_answer = llm_response.content\n",
    "    else:\n",
    "        final_answer = llm_response\n",
    "    \n",
    "    # Store the final answer in the state\n",
    "    state.ans = final_answer\n",
    "    return final_answer"
   ]
  },
  {
   "cell_type": "code",
   "execution_count": 248,
   "id": "805bf246-6ed9-40ed-bee0-1c9929f93ce1",
   "metadata": {},
   "outputs": [],
   "source": [
    "def parallelize( state: OverallState):\n",
    "    return [Send(\"solve\", {\"task\": task,\n",
    "                             \"messages\": [HumanMessage(content=f\"solve the task {task}\")], \"innerloop.task\": task}) for task in state.tasks]"
   ]
  },
  {
   "cell_type": "code",
   "execution_count": 249,
   "id": "8fb8e8f1-66ff-4173-9e59-ba12f7c0422d",
   "metadata": {},
   "outputs": [
    {
     "data": {
      "image/jpeg": "[encoded data removed]",
      "text/plain": [
       "<IPython.core.display.Image object>"
      ]
     },
     "metadata": {},
     "output_type": "display_data"
    }
   ],
   "source": [
    "workflow = StateGraph(OverallState)\n",
    "workflow.add_node(\"PlanAgent\", plan_agent)\n",
    "workflow.add_node(\"solve\", builder.compile())\n",
    "workflow.add_node(\"feedback_node\", human_feedback)\n",
    "# workflow.add_node(\"should_continue\", should_continue)\n",
    "workflow.add_node(\"CombinedResponse\", combine_answers)\n",
    "\n",
    "workflow.add_edge(START, \"PlanAgent\")\n",
    "# workflow.add_edge(\"PlanAgent\", \"solve\")\n",
    "workflow.add_conditional_edges(\"PlanAgent\", parallelize, [\"solve\"])\n",
    "workflow.add_edge(\"solve\", \"feedback_node\")\n",
    "workflow.add_conditional_edges(\"feedback_node\", should_continue, [\"PlanAgent\", \"CombinedResponse\"])\n",
    "workflow.add_edge(\"CombinedResponse\", END)\n",
    "\n",
    "graph = workflow.compile(interrupt_before=['feedback_node'], checkpointer=MemorySaver())\n",
    "display(Image(graph.get_graph(xray=1).draw_mermaid_png()))"
   ]
  },
  {
   "cell_type": "code",
   "execution_count": 250,
   "id": "8749033a-90c7-4a8b-90ad-ee4ec0968c12",
   "metadata": {},
   "outputs": [
    {
     "name": "stdout",
     "output_type": "stream",
     "text": [
      "Full Event: {'query': 'add 2 and 3, multiply 4 and 6, and divide 6 by 2 and return mean of all the answers', 'answers': []}\n",
      "Event Keys: dict_keys(['query', 'answers'])\n",
      "query: add 2 and 3, multiply 4 and 6, and divide 6 by 2 and return mean of all the answers\n",
      "answers: []\n"
     ]
    },
    {
     "name": "stderr",
     "output_type": "stream",
     "text": [
      "INFO:httpx:HTTP Request: POST https://api.groq.com/openai/v1/chat/completions \"HTTP/1.1 200 OK\"\n"
     ]
    },
    {
     "name": "stdout",
     "output_type": "stream",
     "text": [
      "Full Event: {'query': 'add 2 and 3, multiply 4 and 6, and divide 6 by 2 and return mean of all the answers', 'tasks': ['add 2 and 3 and return the result', 'multiply 4 and 6 and return the result', 'divide 6 by 2 and return the result', 'calculate the mean of the previous results and return the result'], 'answers': []}\n",
      "Event Keys: dict_keys(['query', 'tasks', 'answers'])\n",
      "query: add 2 and 3, multiply 4 and 6, and divide 6 by 2 and return mean of all the answers\n",
      "tasks: ['add 2 and 3 and return the result', 'multiply 4 and 6 and return the result', 'divide 6 by 2 and return the result', 'calculate the mean of the previous results and return the result']\n",
      "answers: []\n"
     ]
    },
    {
     "name": "stderr",
     "output_type": "stream",
     "text": [
      "INFO:httpx:HTTP Request: POST https://api.groq.com/openai/v1/chat/completions \"HTTP/1.1 200 OK\"\n"
     ]
    },
    {
     "name": "stdout",
     "output_type": "stream",
     "text": [
      "24\n"
     ]
    },
    {
     "name": "stderr",
     "output_type": "stream",
     "text": [
      "INFO:httpx:HTTP Request: POST https://api.groq.com/openai/v1/chat/completions \"HTTP/1.1 200 OK\"\n",
      "INFO:httpx:HTTP Request: POST https://api.groq.com/openai/v1/chat/completions \"HTTP/1.1 200 OK\"\n",
      "INFO:root:Calling add function with 2 and 3\n",
      "INFO:root:Tool returned 5\n"
     ]
    },
    {
     "name": "stdout",
     "output_type": "stream",
     "text": [
      "3.0\n",
      "5\n"
     ]
    },
    {
     "name": "stderr",
     "output_type": "stream",
     "text": [
      "INFO:httpx:HTTP Request: POST https://api.groq.com/openai/v1/chat/completions \"HTTP/1.1 200 OK\"\n",
      "INFO:httpx:HTTP Request: POST https://api.groq.com/openai/v1/chat/completions \"HTTP/1.1 200 OK\"\n",
      "INFO:httpx:HTTP Request: POST https://api.groq.com/openai/v1/chat/completions \"HTTP/1.1 200 OK\"\n",
      "INFO:httpx:HTTP Request: POST https://api.groq.com/openai/v1/chat/completions \"HTTP/1.1 200 OK\"\n",
      "INFO:httpx:HTTP Request: POST https://api.groq.com/openai/v1/chat/completions \"HTTP/1.1 200 OK\"\n",
      "INFO:httpx:HTTP Request: POST https://api.groq.com/openai/v1/chat/completions \"HTTP/1.1 200 OK\"\n",
      "INFO:httpx:HTTP Request: POST https://api.groq.com/openai/v1/chat/completions \"HTTP/1.1 200 OK\"\n",
      "INFO:root:Calling add function with 10 and 20\n",
      "INFO:root:Calling add function with 30 and 40\n",
      "INFO:root:Calling add function with 10 and 20\n",
      "INFO:root:Calling add function with 30 and 40\n",
      "INFO:root:Tool returned 30\n",
      "INFO:root:Calling add function with 10 and 20\n",
      "INFO:root:Calling add function with 30 and 40\n",
      "INFO:root:Calling add function with 10 and 20\n",
      "INFO:root:Calling add function with 30 and 40\n",
      "INFO:root:Tool returned 70\n",
      "INFO:root:Calling add function with 10 and 20\n",
      "INFO:root:Tool returned 30\n",
      "INFO:root:Calling add function with 30 and 40\n",
      "INFO:root:Calling add function with 10 and 20\n",
      "INFO:root:Calling add function with 30 and 40\n",
      "INFO:root:Tool returned 70\n",
      "INFO:root:Calling add function with 10 and 20\n",
      "INFO:root:Calling add function with 30 and 40\n",
      "INFO:root:Calling add function with 10 and 20\n",
      "INFO:root:Calling add function with 30 and 40\n",
      "INFO:root:Calling add function with 10 and 20\n",
      "INFO:root:Tool returned 30\n",
      "INFO:root:Tool returned 70\n",
      "INFO:root:Tool returned 30\n",
      "INFO:root:Tool returned 70\n",
      "INFO:root:Calling add function with 30 and 40\n",
      "INFO:root:Tool returned 30\n",
      "INFO:root:Calling add function with 10 and 20\n",
      "INFO:root:Tool returned 70\n",
      "INFO:root:Tool returned 30\n",
      "INFO:root:Tool returned 70\n",
      "INFO:root:Calling add function with 30 and 40\n",
      "INFO:root:Tool returned 30\n",
      "INFO:root:Tool returned 70\n",
      "INFO:root:Tool returned 30\n",
      "INFO:root:Tool returned 70\n",
      "INFO:root:Tool returned 30\n",
      "INFO:root:Calling add function with 10 and 20\n",
      "INFO:root:Calling add function with 30 and 40\n",
      "INFO:root:Calling add function with 10 and 20\n",
      "INFO:root:Calling add function with 30 and 40\n",
      "INFO:root:Tool returned 70\n",
      "INFO:root:Tool returned 30\n",
      "INFO:root:Tool returned 70\n",
      "INFO:root:Tool returned 30\n",
      "INFO:root:Tool returned 70\n",
      "INFO:root:Tool returned 30\n",
      "INFO:root:Tool returned 70\n"
     ]
    },
    {
     "name": "stdout",
     "output_type": "stream",
     "text": [
      "30\n"
     ]
    },
    {
     "name": "stderr",
     "output_type": "stream",
     "text": [
      "INFO:httpx:HTTP Request: POST https://api.groq.com/openai/v1/chat/completions \"HTTP/1.1 200 OK\"\n",
      "INFO:httpx:HTTP Request: POST https://api.groq.com/openai/v1/chat/completions \"HTTP/1.1 200 OK\"\n"
     ]
    },
    {
     "ename": "InvalidUpdateError",
     "evalue": "At key 'answer': Can receive only one value per step. Use an Annotated key to handle multiple values.",
     "output_type": "error",
     "traceback": [
      "\u001b[0;31m---------------------------------------------------------------------------\u001b[0m",
      "\u001b[0;31mInvalidUpdateError\u001b[0m                        Traceback (most recent call last)",
      "Cell \u001b[0;32mIn[250], line 9\u001b[0m\n\u001b[1;32m      4\u001b[0m \u001b[38;5;66;03m# Pass the extracted content (a string) to the AgentState\u001b[39;00m\n\u001b[1;32m      5\u001b[0m \u001b[38;5;66;03m# agent_state = AgentState(query=query)\u001b[39;00m\n\u001b[1;32m      6\u001b[0m thread \u001b[38;5;241m=\u001b[39m {\u001b[38;5;124m\"\u001b[39m\u001b[38;5;124mconfigurable\u001b[39m\u001b[38;5;124m\"\u001b[39m: {\u001b[38;5;124m\"\u001b[39m\u001b[38;5;124mthread_id\u001b[39m\u001b[38;5;124m\"\u001b[39m: \u001b[38;5;124m\"\u001b[39m\u001b[38;5;124m1\u001b[39m\u001b[38;5;124m\"\u001b[39m}}\n\u001b[0;32m----> 9\u001b[0m \u001b[38;5;28;01mfor\u001b[39;00m event \u001b[38;5;129;01min\u001b[39;00m graph\u001b[38;5;241m.\u001b[39mstream(\n\u001b[1;32m     10\u001b[0m     {\u001b[38;5;124m\"\u001b[39m\u001b[38;5;124mquery\u001b[39m\u001b[38;5;124m\"\u001b[39m: query},\n\u001b[1;32m     11\u001b[0m     thread,\n\u001b[1;32m     12\u001b[0m     stream_mode\u001b[38;5;241m=\u001b[39m\u001b[38;5;124m\"\u001b[39m\u001b[38;5;124mvalues\u001b[39m\u001b[38;5;124m\"\u001b[39m,\n\u001b[1;32m     13\u001b[0m ):\n\u001b[1;32m     14\u001b[0m     \u001b[38;5;66;03m# Print the entire event object for inspection\u001b[39;00m\n\u001b[1;32m     15\u001b[0m     \u001b[38;5;28mprint\u001b[39m(\u001b[38;5;124m\"\u001b[39m\u001b[38;5;124mFull Event:\u001b[39m\u001b[38;5;124m\"\u001b[39m, event)\n\u001b[1;32m     17\u001b[0m     \u001b[38;5;66;03m# If event is a dictionary (which is common), you can print its keys and values\u001b[39;00m\n",
      "File \u001b[0;32m~/.local/lib/python3.10/site-packages/langgraph/pregel/__init__.py:1292\u001b[0m, in \u001b[0;36mPregel.stream\u001b[0;34m(self, input, config, stream_mode, output_keys, interrupt_before, interrupt_after, debug, subgraphs)\u001b[0m\n\u001b[1;32m   1286\u001b[0m     get_waiter \u001b[38;5;241m=\u001b[39m \u001b[38;5;28;01mNone\u001b[39;00m  \u001b[38;5;66;03m# type: ignore[assignment]\u001b[39;00m\n\u001b[1;32m   1287\u001b[0m \u001b[38;5;66;03m# Similarly to Bulk Synchronous Parallel / Pregel model\u001b[39;00m\n\u001b[1;32m   1288\u001b[0m \u001b[38;5;66;03m# computation proceeds in steps, while there are channel updates\u001b[39;00m\n\u001b[1;32m   1289\u001b[0m \u001b[38;5;66;03m# channel updates from step N are only visible in step N+1\u001b[39;00m\n\u001b[1;32m   1290\u001b[0m \u001b[38;5;66;03m# channels are guaranteed to be immutable for the duration of the step,\u001b[39;00m\n\u001b[1;32m   1291\u001b[0m \u001b[38;5;66;03m# with channel updates applied only at the transition between steps\u001b[39;00m\n\u001b[0;32m-> 1292\u001b[0m \u001b[38;5;28;01mwhile\u001b[39;00m \u001b[43mloop\u001b[49m\u001b[38;5;241;43m.\u001b[39;49m\u001b[43mtick\u001b[49m\u001b[43m(\u001b[49m\n\u001b[1;32m   1293\u001b[0m \u001b[43m    \u001b[49m\u001b[43minput_keys\u001b[49m\u001b[38;5;241;43m=\u001b[39;49m\u001b[38;5;28;43mself\u001b[39;49m\u001b[38;5;241;43m.\u001b[39;49m\u001b[43minput_channels\u001b[49m\u001b[43m,\u001b[49m\n\u001b[1;32m   1294\u001b[0m \u001b[43m    \u001b[49m\u001b[43minterrupt_before\u001b[49m\u001b[38;5;241;43m=\u001b[39;49m\u001b[43minterrupt_before_\u001b[49m\u001b[43m,\u001b[49m\n\u001b[1;32m   1295\u001b[0m \u001b[43m    \u001b[49m\u001b[43minterrupt_after\u001b[49m\u001b[38;5;241;43m=\u001b[39;49m\u001b[43minterrupt_after_\u001b[49m\u001b[43m,\u001b[49m\n\u001b[1;32m   1296\u001b[0m \u001b[43m    \u001b[49m\u001b[43mmanager\u001b[49m\u001b[38;5;241;43m=\u001b[39;49m\u001b[43mrun_manager\u001b[49m\u001b[43m,\u001b[49m\n\u001b[1;32m   1297\u001b[0m \u001b[43m\u001b[49m\u001b[43m)\u001b[49m:\n\u001b[1;32m   1298\u001b[0m     \u001b[38;5;28;01mfor\u001b[39;00m _ \u001b[38;5;129;01min\u001b[39;00m runner\u001b[38;5;241m.\u001b[39mtick(\n\u001b[1;32m   1299\u001b[0m         loop\u001b[38;5;241m.\u001b[39mtasks\u001b[38;5;241m.\u001b[39mvalues(),\n\u001b[1;32m   1300\u001b[0m         timeout\u001b[38;5;241m=\u001b[39m\u001b[38;5;28mself\u001b[39m\u001b[38;5;241m.\u001b[39mstep_timeout,\n\u001b[0;32m   (...)\u001b[0m\n\u001b[1;32m   1303\u001b[0m     ):\n\u001b[1;32m   1304\u001b[0m         \u001b[38;5;66;03m# emit output\u001b[39;00m\n\u001b[1;32m   1305\u001b[0m         \u001b[38;5;28;01myield from\u001b[39;00m output()\n",
      "File \u001b[0;32m~/.local/lib/python3.10/site-packages/langgraph/pregel/loop.py:325\u001b[0m, in \u001b[0;36mPregelLoop.tick\u001b[0;34m(self, input_keys, interrupt_after, interrupt_before, manager)\u001b[0m\n\u001b[1;32m    317\u001b[0m     print_step_writes(\n\u001b[1;32m    318\u001b[0m         \u001b[38;5;28mself\u001b[39m\u001b[38;5;241m.\u001b[39mstep,\n\u001b[1;32m    319\u001b[0m         writes,\n\u001b[0;32m   (...)\u001b[0m\n\u001b[1;32m    322\u001b[0m         \u001b[38;5;28;01melse\u001b[39;00m \u001b[38;5;28mself\u001b[39m\u001b[38;5;241m.\u001b[39mstream_keys,\n\u001b[1;32m    323\u001b[0m     )\n\u001b[1;32m    324\u001b[0m \u001b[38;5;66;03m# all tasks have finished\u001b[39;00m\n\u001b[0;32m--> 325\u001b[0m mv_writes \u001b[38;5;241m=\u001b[39m \u001b[43mapply_writes\u001b[49m\u001b[43m(\u001b[49m\n\u001b[1;32m    326\u001b[0m \u001b[43m    \u001b[49m\u001b[38;5;28;43mself\u001b[39;49m\u001b[38;5;241;43m.\u001b[39;49m\u001b[43mcheckpoint\u001b[49m\u001b[43m,\u001b[49m\n\u001b[1;32m    327\u001b[0m \u001b[43m    \u001b[49m\u001b[38;5;28;43mself\u001b[39;49m\u001b[38;5;241;43m.\u001b[39;49m\u001b[43mchannels\u001b[49m\u001b[43m,\u001b[49m\n\u001b[1;32m    328\u001b[0m \u001b[43m    \u001b[49m\u001b[38;5;28;43mself\u001b[39;49m\u001b[38;5;241;43m.\u001b[39;49m\u001b[43mtasks\u001b[49m\u001b[38;5;241;43m.\u001b[39;49m\u001b[43mvalues\u001b[49m\u001b[43m(\u001b[49m\u001b[43m)\u001b[49m\u001b[43m,\u001b[49m\n\u001b[1;32m    329\u001b[0m \u001b[43m    \u001b[49m\u001b[38;5;28;43mself\u001b[39;49m\u001b[38;5;241;43m.\u001b[39;49m\u001b[43mcheckpointer_get_next_version\u001b[49m\u001b[43m,\u001b[49m\n\u001b[1;32m    330\u001b[0m \u001b[43m\u001b[49m\u001b[43m)\u001b[49m\n\u001b[1;32m    331\u001b[0m \u001b[38;5;66;03m# apply writes to managed values\u001b[39;00m\n\u001b[1;32m    332\u001b[0m \u001b[38;5;28;01mfor\u001b[39;00m key, values \u001b[38;5;129;01min\u001b[39;00m mv_writes\u001b[38;5;241m.\u001b[39mitems():\n",
      "File \u001b[0;32m~/.local/lib/python3.10/site-packages/langgraph/pregel/algo.py:250\u001b[0m, in \u001b[0;36mapply_writes\u001b[0;34m(checkpoint, channels, tasks, get_next_version)\u001b[0m\n\u001b[1;32m    248\u001b[0m \u001b[38;5;28;01mfor\u001b[39;00m chan, vals \u001b[38;5;129;01min\u001b[39;00m pending_writes_by_channel\u001b[38;5;241m.\u001b[39mitems():\n\u001b[1;32m    249\u001b[0m     \u001b[38;5;28;01mif\u001b[39;00m chan \u001b[38;5;129;01min\u001b[39;00m channels:\n\u001b[0;32m--> 250\u001b[0m         \u001b[38;5;28;01mif\u001b[39;00m \u001b[43mchannels\u001b[49m\u001b[43m[\u001b[49m\u001b[43mchan\u001b[49m\u001b[43m]\u001b[49m\u001b[38;5;241;43m.\u001b[39;49m\u001b[43mupdate\u001b[49m\u001b[43m(\u001b[49m\u001b[43mvals\u001b[49m\u001b[43m)\u001b[49m \u001b[38;5;129;01mand\u001b[39;00m get_next_version \u001b[38;5;129;01mis\u001b[39;00m \u001b[38;5;129;01mnot\u001b[39;00m \u001b[38;5;28;01mNone\u001b[39;00m:\n\u001b[1;32m    251\u001b[0m             checkpoint[\u001b[38;5;124m\"\u001b[39m\u001b[38;5;124mchannel_versions\u001b[39m\u001b[38;5;124m\"\u001b[39m][chan] \u001b[38;5;241m=\u001b[39m get_next_version(\n\u001b[1;32m    252\u001b[0m                 max_version,\n\u001b[1;32m    253\u001b[0m                 channels[chan],\n\u001b[1;32m    254\u001b[0m             )\n\u001b[1;32m    255\u001b[0m         updated_channels\u001b[38;5;241m.\u001b[39madd(chan)\n",
      "File \u001b[0;32m~/.local/lib/python3.10/site-packages/langgraph/channels/last_value.py:38\u001b[0m, in \u001b[0;36mLastValue.update\u001b[0;34m(self, values)\u001b[0m\n\u001b[1;32m     36\u001b[0m     \u001b[38;5;28;01mreturn\u001b[39;00m \u001b[38;5;28;01mFalse\u001b[39;00m\n\u001b[1;32m     37\u001b[0m \u001b[38;5;28;01mif\u001b[39;00m \u001b[38;5;28mlen\u001b[39m(values) \u001b[38;5;241m!=\u001b[39m \u001b[38;5;241m1\u001b[39m:\n\u001b[0;32m---> 38\u001b[0m     \u001b[38;5;28;01mraise\u001b[39;00m InvalidUpdateError(\n\u001b[1;32m     39\u001b[0m         \u001b[38;5;124mf\u001b[39m\u001b[38;5;124m\"\u001b[39m\u001b[38;5;124mAt key \u001b[39m\u001b[38;5;124m'\u001b[39m\u001b[38;5;132;01m{\u001b[39;00m\u001b[38;5;28mself\u001b[39m\u001b[38;5;241m.\u001b[39mkey\u001b[38;5;132;01m}\u001b[39;00m\u001b[38;5;124m'\u001b[39m\u001b[38;5;124m: Can receive only one value per step. Use an Annotated key to handle multiple values.\u001b[39m\u001b[38;5;124m\"\u001b[39m\n\u001b[1;32m     40\u001b[0m     )\n\u001b[1;32m     42\u001b[0m \u001b[38;5;28mself\u001b[39m\u001b[38;5;241m.\u001b[39mvalue \u001b[38;5;241m=\u001b[39m values[\u001b[38;5;241m-\u001b[39m\u001b[38;5;241m1\u001b[39m]\n\u001b[1;32m     43\u001b[0m \u001b[38;5;28;01mreturn\u001b[39;00m \u001b[38;5;28;01mTrue\u001b[39;00m\n",
      "\u001b[0;31mInvalidUpdateError\u001b[0m: At key 'answer': Can receive only one value per step. Use an Annotated key to handle multiple values."
     ]
    }
   ],
   "source": [
    "# query = \"evalute 2+3, 4*7 & 5/0?\"\n",
    "query = \"add 2 and 3, multiply 4 and 6, and divide 6 by 2 and return mean of all the answers\"\n",
    "\n",
    "# Pass the extracted content (a string) to the AgentState\n",
    "# agent_state = AgentState(query=query)\n",
    "thread = {\"configurable\": {\"thread_id\": \"1\"}}\n",
    "\n",
    "\n",
    "for event in graph.stream(\n",
    "    {\"query\": query},\n",
    "    thread,\n",
    "    stream_mode=\"values\",\n",
    "):\n",
    "    # Print the entire event object for inspection\n",
    "    print(\"Full Event:\", event)\n",
    "\n",
    "    # If event is a dictionary (which is common), you can print its keys and values\n",
    "    if isinstance(event, dict):\n",
    "        print(\"Event Keys:\", event.keys())\n",
    "        for key, value in event.items():\n",
    "            print(f\"{key}: {value}\")\n",
    "\n",
    "    # Optionally, if event has specific known attributes, you can print them like this:\n",
    "    if 'messages' in event:\n",
    "        for message in event['messages']:\n",
    "            print(\"Message Content:\", message['content'])\n",
    "\n",
    "    # Print the last message or specific components\n",
    "    if 'messages' in event:\n",
    "        event['messages'][-1].pretty_print()\n"
   ]
  },
  {
   "cell_type": "code",
   "execution_count": null,
   "id": "6bae7d6f-50d1-4663-bd0f-f2da5e604c61",
   "metadata": {},
   "outputs": [],
   "source": []
  },
  {
   "cell_type": "code",
   "execution_count": null,
   "id": "38dc9950-38d1-4b73-af08-adfa4d3084c2",
   "metadata": {},
   "outputs": [],
   "source": []
  },
  {
   "cell_type": "code",
   "execution_count": null,
   "id": "582f33da-9d55-4f96-977b-27c68ff3d7b1",
   "metadata": {},
   "outputs": [],
   "source": []
  },
  {
   "cell_type": "code",
   "execution_count": null,
   "id": "9288bb52-f9d6-4de5-961f-257bdea01998",
   "metadata": {},
   "outputs": [],
   "source": []
  },
  {
   "cell_type": "code",
   "execution_count": null,
   "id": "95fd4677-c2e8-4928-895f-73e6fc367c9c",
   "metadata": {},
   "outputs": [],
   "source": []
  },
  {
   "cell_type": "code",
   "execution_count": null,
   "id": "870f649f-0899-4f12-932d-7a434be4d84f",
   "metadata": {},
   "outputs": [],
   "source": []
  },
  {
   "cell_type": "code",
   "execution_count": null,
   "id": "3a74009f-37c0-4e33-ac59-e70f27c341dc",
   "metadata": {},
   "outputs": [],
   "source": []
  },
  {
   "cell_type": "code",
   "execution_count": null,
   "id": "f6dd7cd2-3d27-4113-9066-05e73222e61f",
   "metadata": {},
   "outputs": [],
   "source": []
  },
  {
   "cell_type": "code",
   "execution_count": null,
   "id": "f6e23821-08b3-4fc6-b8f7-810ae9dc1a34",
   "metadata": {},
   "outputs": [],
   "source": []
  },
  {
   "cell_type": "code",
   "execution_count": null,
   "id": "0469cea4-22c3-478a-a4a0-ef5420078854",
   "metadata": {},
   "outputs": [],
   "source": []
  },
  {
   "cell_type": "code",
   "execution_count": null,
   "id": "c67125e9-e0dd-4d34-a534-24d48221893c",
   "metadata": {},
   "outputs": [],
   "source": []
  },
  {
   "cell_type": "code",
   "execution_count": null,
   "id": "89d40ae5-e9ae-48e8-8cfe-a1f4251ef977",
   "metadata": {},
   "outputs": [],
   "source": []
  },
  {
   "cell_type": "code",
   "execution_count": null,
   "id": "ae9c5ef6-2830-4fba-b300-f234e621bdbd",
   "metadata": {},
   "outputs": [],
   "source": []
  },
  {
   "cell_type": "code",
   "execution_count": null,
   "id": "b5c38131-050e-4845-b8f0-310aacf666dd",
   "metadata": {},
   "outputs": [],
   "source": []
  },
  {
   "cell_type": "code",
   "execution_count": null,
   "id": "3430d951-d717-467b-a9c5-0fedb4dc5019",
   "metadata": {},
   "outputs": [],
   "source": []
  },
  {
   "cell_type": "code",
   "execution_count": null,
   "id": "54c9d54c-3e8d-49bf-9253-b991f6754d54",
   "metadata": {},
   "outputs": [],
   "source": []
  },
  {
   "cell_type": "code",
   "execution_count": null,
   "id": "fe8e5e33-3e44-4dbb-a663-537a8ce9ed61",
   "metadata": {},
   "outputs": [],
   "source": []
  }
 ],
 "metadata": {
  "kernelspec": {
   "display_name": "Python 3 (ipykernel)",
   "language": "python",
   "name": "python3"
  },
  "language_info": {
   "codemirror_mode": {
    "name": "ipython",
    "version": 3
   },
   "file_extension": ".py",
   "mimetype": "text/x-python",
   "name": "python",
   "nbconvert_exporter": "python",
   "pygments_lexer": "ipython3",
   "version": "3.10.12"
  }
 },
 "nbformat": 4,
 "nbformat_minor": 5
}
